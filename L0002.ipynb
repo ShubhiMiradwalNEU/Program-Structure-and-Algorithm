{
 "cells": [
  {
   "cell_type": "markdown",
   "metadata": {},
   "source": [
    "## 2. Add Two Numbers\n",
    "## https://leetcode.com/problems/add-two-numbers/\n",
    "## Jagadeesh Vasudevamurthy"
   ]
  },
  {
   "cell_type": "markdown",
   "metadata": {},
   "source": [
    "# Write code below"
   ]
  },
  {
   "cell_type": "code",
   "execution_count": 9,
   "metadata": {},
   "outputs": [],
   "source": [
    "############################################################\n",
    "# L0002.py\n",
    "# Author: Jagadeesh Vasudevamurthy\n",
    "# Copyright: Jagadeesh Vasudevamurthy 2022\n",
    "###########################################################\n",
    "\n",
    "############################################################\n",
    "# https://leetcode.com/problems/add-two-numbers/\n",
    "###########################################################\n",
    "\n",
    "class ListNode:\n",
    "    def __init__(self, val = 0, next= None):\n",
    "        self.val = val\n",
    "        self.next = next\n",
    "\n",
    "class Solution:\n",
    "    #NOTHING CAN BE CHANGED BELOW\n",
    "    def addTwoNumbers(self, l1: 'ListNode', l2: 'ListNode')->'ListNode':\n",
    "        show = False\n",
    "        assert_answers = True\n",
    "        ans = [None] #List of size 1\n",
    "        h = L0002(l1,l2,ans,assert_answers,show)\n",
    "        return ans[0]\n",
    "\n",
    "class L0002:\n",
    "    def __init__(self, l1: 'ListNode', l2: 'ListNode', ans:'listNode of size 1', assert_answers:'bool',show:'bool') -> None:\n",
    "        #NOTHING CAN BE CHANGED BELOW\n",
    "        self._a = Slist()\n",
    "        self._a._first = l1\n",
    "        self._b = Slist()\n",
    "        self._b._first = l2\n",
    "        self._ans = ans\n",
    "        self._alg()\n",
    "        \n",
    "    def _alg(self):\n",
    "        c = self._a + self._b\n",
    "        self._ans[0] = c._first\n",
    "        \n",
    "\n",
    "\n",
    "class Slist():\n",
    "    def __init__(self):\n",
    "        #NOTHING CAN BE CHANGED HERE\n",
    "        self._first = None\n",
    "        self._last = None\n",
    "\n",
    "    #############################\n",
    "    # WRITE CODE BELOW\n",
    "    #############################\n",
    "\n",
    "    def __add__(self, other):\n",
    "        result_dummy = ListNode(0)\n",
    "        result_current = result_dummy\n",
    "        result_carry = 0\n",
    "\n",
    "        current_node_1 = self._first\n",
    "        current_node_2 = other._first\n",
    "\n",
    "        while current_node_1 is not None or current_node_2 is not None:\n",
    "            value_1 = current_node_1.val if current_node_1 else 0\n",
    "            value_2 = current_node_2.val if current_node_2 else 0\n",
    "\n",
    "            sum_val = value_1 + value_2 + result_carry\n",
    "            result_carry = sum_val // 10\n",
    "\n",
    "            result_current.next = ListNode(sum_val % 10)\n",
    "            result_current = result_current.next\n",
    "\n",
    "            current_node_1 = current_node_1.next if current_node_1 else None\n",
    "            current_node_2 = current_node_2.next if current_node_2 else None\n",
    "\n",
    "        if result_carry > 0:\n",
    "            result_current.next = ListNode(result_carry)\n",
    "\n",
    "        result = Slist()\n",
    "        result._first = result_dummy.next\n",
    "        return result"
   ]
  },
  {
   "cell_type": "markdown",
   "metadata": {},
   "source": [
    "##  NO test bench. Use Slist object to learn"
   ]
  },
  {
   "cell_type": "code",
   "execution_count": null,
   "metadata": {},
   "outputs": [],
   "source": []
  },
  {
   "cell_type": "code",
   "execution_count": null,
   "metadata": {},
   "outputs": [],
   "source": []
  },
  {
   "cell_type": "code",
   "execution_count": null,
   "metadata": {},
   "outputs": [],
   "source": []
  },
  {
   "cell_type": "code",
   "execution_count": null,
   "metadata": {},
   "outputs": [],
   "source": []
  },
  {
   "cell_type": "code",
   "execution_count": null,
   "metadata": {},
   "outputs": [],
   "source": []
  }
 ],
 "metadata": {
  "kernelspec": {
   "display_name": "Python 3 (ipykernel)",
   "language": "python",
   "name": "python3"
  },
  "language_info": {
   "codemirror_mode": {
    "name": "ipython",
    "version": 3
   },
   "file_extension": ".py",
   "mimetype": "text/x-python",
   "name": "python",
   "nbconvert_exporter": "python",
   "pygments_lexer": "ipython3",
   "version": "3.10.9"
  }
 },
 "nbformat": 4,
 "nbformat_minor": 4
}
